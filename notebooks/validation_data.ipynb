{
 "cells": [
  {
   "cell_type": "code",
   "execution_count": 91,
   "metadata": {
    "collapsed": true
   },
   "outputs": [],
   "source": [
    "import pandas as pd\n",
    "import numpy as np\n",
    "import self as self"
   ]
  },
  {
   "cell_type": "code",
   "execution_count": 98,
   "outputs": [],
   "source": [
    "# Read df, drop predictors\n",
    "x_val = pd.read_excel('../Data/dec22/data_input.xlsx', sheet_name='pol')\n",
    "x_val = x_val.drop(['db'], axis=1)"
   ],
   "metadata": {
    "collapsed": false
   }
  },
  {
   "cell_type": "code",
   "execution_count": 99,
   "outputs": [],
   "source": [
    "# Format data to test model ability to predict between angles of train data.\n",
    "for row in range(len(x_val)):\n",
    "    x_val.at[row, 'degree'] = x_val.iloc[row, 1] + 7.5"
   ],
   "metadata": {
    "collapsed": false
   }
  },
  {
   "cell_type": "code",
   "execution_count": 97,
   "outputs": [
    {
     "ename": "AttributeError",
     "evalue": "'DataFrameGroupBy' object has no attribute 'unique'",
     "output_type": "error",
     "traceback": [
      "\u001B[1;31m---------------------------------------------------------------------------\u001B[0m",
      "\u001B[1;31mAttributeError\u001B[0m                            Traceback (most recent call last)",
      "Cell \u001B[1;32mIn [97], line 3\u001B[0m\n\u001B[0;32m      1\u001B[0m x_val_dict \u001B[38;5;241m=\u001B[39m []\n\u001B[0;32m      2\u001B[0m x \u001B[38;5;241m=\u001B[39m \u001B[38;5;241m7.5\u001B[39m\n\u001B[1;32m----> 3\u001B[0m \u001B[38;5;28;01mfor\u001B[39;00m i \u001B[38;5;129;01min\u001B[39;00m \u001B[38;5;28mrange\u001B[39m(\u001B[43mx_val\u001B[49m\u001B[38;5;241;43m.\u001B[39;49m\u001B[43mgroupby\u001B[49m\u001B[43m(\u001B[49m\u001B[38;5;124;43m'\u001B[39;49m\u001B[38;5;124;43mdegree\u001B[39;49m\u001B[38;5;124;43m'\u001B[39;49m\u001B[43m)\u001B[49m\u001B[38;5;241;43m.\u001B[39;49m\u001B[43munique\u001B[49m()\u001B[38;5;241m.\u001B[39msum()):\n\u001B[0;32m      4\u001B[0m     x_val_dict[i] \u001B[38;5;241m=\u001B[39m x_val\u001B[38;5;241m.\u001B[39mloc[(x_val\u001B[38;5;241m.\u001B[39mdegree \u001B[38;5;241m==\u001B[39m x)]\n\u001B[0;32m      5\u001B[0m     x \u001B[38;5;241m=\u001B[39m x \u001B[38;5;241m+\u001B[39m \u001B[38;5;241m15\u001B[39m\n",
      "File \u001B[1;32m~\\AppData\\Local\\Programs\\Python\\Python39\\lib\\site-packages\\pandas\\core\\groupby\\groupby.py:981\u001B[0m, in \u001B[0;36mGroupBy.__getattr__\u001B[1;34m(self, attr)\u001B[0m\n\u001B[0;32m    978\u001B[0m \u001B[38;5;28;01mif\u001B[39;00m attr \u001B[38;5;129;01min\u001B[39;00m \u001B[38;5;28mself\u001B[39m\u001B[38;5;241m.\u001B[39mobj:\n\u001B[0;32m    979\u001B[0m     \u001B[38;5;28;01mreturn\u001B[39;00m \u001B[38;5;28mself\u001B[39m[attr]\n\u001B[1;32m--> 981\u001B[0m \u001B[38;5;28;01mraise\u001B[39;00m \u001B[38;5;167;01mAttributeError\u001B[39;00m(\n\u001B[0;32m    982\u001B[0m     \u001B[38;5;124mf\u001B[39m\u001B[38;5;124m\"\u001B[39m\u001B[38;5;124m'\u001B[39m\u001B[38;5;132;01m{\u001B[39;00m\u001B[38;5;28mtype\u001B[39m(\u001B[38;5;28mself\u001B[39m)\u001B[38;5;241m.\u001B[39m\u001B[38;5;18m__name__\u001B[39m\u001B[38;5;132;01m}\u001B[39;00m\u001B[38;5;124m'\u001B[39m\u001B[38;5;124m object has no attribute \u001B[39m\u001B[38;5;124m'\u001B[39m\u001B[38;5;132;01m{\u001B[39;00mattr\u001B[38;5;132;01m}\u001B[39;00m\u001B[38;5;124m'\u001B[39m\u001B[38;5;124m\"\u001B[39m\n\u001B[0;32m    983\u001B[0m )\n",
      "\u001B[1;31mAttributeError\u001B[0m: 'DataFrameGroupBy' object has no attribute 'unique'"
     ]
    }
   ],
   "source": [
    "x_val_dict = []\n",
    "x = 7.5\n",
    "for i in range(x_val.groupby('degree').unique().sum()):\n",
    "    x_val_dict[i] = x_val.loc[(x_val.degree == x)]\n",
    "    x = x + 15\n",
    "x_val_dict.head(len(x_val_dict))\n",
    "\n",
    "# x_val.rename(columns = {'degree':'7.5'}, inplace = True)\n",
    "# formatted_x_val = x_val.loc[(x_val.degree == 7.5)]"
   ],
   "metadata": {
    "collapsed": false
   }
  },
  {
   "cell_type": "code",
   "execution_count": null,
   "outputs": [],
   "source": [],
   "metadata": {
    "collapsed": false
   }
  },
  {
   "cell_type": "code",
   "execution_count": 100,
   "outputs": [],
   "source": [
    "x_val.to_csv('../Data/dec22/x_validation.csv', index_label=False)"
   ],
   "metadata": {
    "collapsed": false
   }
  },
  {
   "cell_type": "code",
   "execution_count": 79,
   "outputs": [],
   "source": [
    "xval = x_val.loc[(x_val.degree == 7.5)]"
   ],
   "metadata": {
    "collapsed": false
   }
  },
  {
   "cell_type": "code",
   "execution_count": 80,
   "outputs": [
    {
     "data": {
      "text/plain": "    theta  degree\n0      45     7.5\n1      50     7.5\n2      55     7.5\n3      60     7.5\n4      65     7.5\n5      70     7.5\n6      75     7.5\n7      80     7.5\n8      85     7.5\n9      90     7.5\n10     95     7.5\n11    100     7.5\n12    105     7.5\n13    110     7.5\n14    115     7.5\n15    120     7.5\n16    125     7.5\n17    130     7.5\n18    135     7.5\n19    140     7.5\n20    145     7.5\n21    150     7.5\n22    155     7.5",
      "text/html": "<div>\n<style scoped>\n    .dataframe tbody tr th:only-of-type {\n        vertical-align: middle;\n    }\n\n    .dataframe tbody tr th {\n        vertical-align: top;\n    }\n\n    .dataframe thead th {\n        text-align: right;\n    }\n</style>\n<table border=\"1\" class=\"dataframe\">\n  <thead>\n    <tr style=\"text-align: right;\">\n      <th></th>\n      <th>theta</th>\n      <th>degree</th>\n    </tr>\n  </thead>\n  <tbody>\n    <tr>\n      <th>0</th>\n      <td>45</td>\n      <td>7.5</td>\n    </tr>\n    <tr>\n      <th>1</th>\n      <td>50</td>\n      <td>7.5</td>\n    </tr>\n    <tr>\n      <th>2</th>\n      <td>55</td>\n      <td>7.5</td>\n    </tr>\n    <tr>\n      <th>3</th>\n      <td>60</td>\n      <td>7.5</td>\n    </tr>\n    <tr>\n      <th>4</th>\n      <td>65</td>\n      <td>7.5</td>\n    </tr>\n    <tr>\n      <th>5</th>\n      <td>70</td>\n      <td>7.5</td>\n    </tr>\n    <tr>\n      <th>6</th>\n      <td>75</td>\n      <td>7.5</td>\n    </tr>\n    <tr>\n      <th>7</th>\n      <td>80</td>\n      <td>7.5</td>\n    </tr>\n    <tr>\n      <th>8</th>\n      <td>85</td>\n      <td>7.5</td>\n    </tr>\n    <tr>\n      <th>9</th>\n      <td>90</td>\n      <td>7.5</td>\n    </tr>\n    <tr>\n      <th>10</th>\n      <td>95</td>\n      <td>7.5</td>\n    </tr>\n    <tr>\n      <th>11</th>\n      <td>100</td>\n      <td>7.5</td>\n    </tr>\n    <tr>\n      <th>12</th>\n      <td>105</td>\n      <td>7.5</td>\n    </tr>\n    <tr>\n      <th>13</th>\n      <td>110</td>\n      <td>7.5</td>\n    </tr>\n    <tr>\n      <th>14</th>\n      <td>115</td>\n      <td>7.5</td>\n    </tr>\n    <tr>\n      <th>15</th>\n      <td>120</td>\n      <td>7.5</td>\n    </tr>\n    <tr>\n      <th>16</th>\n      <td>125</td>\n      <td>7.5</td>\n    </tr>\n    <tr>\n      <th>17</th>\n      <td>130</td>\n      <td>7.5</td>\n    </tr>\n    <tr>\n      <th>18</th>\n      <td>135</td>\n      <td>7.5</td>\n    </tr>\n    <tr>\n      <th>19</th>\n      <td>140</td>\n      <td>7.5</td>\n    </tr>\n    <tr>\n      <th>20</th>\n      <td>145</td>\n      <td>7.5</td>\n    </tr>\n    <tr>\n      <th>21</th>\n      <td>150</td>\n      <td>7.5</td>\n    </tr>\n    <tr>\n      <th>22</th>\n      <td>155</td>\n      <td>7.5</td>\n    </tr>\n  </tbody>\n</table>\n</div>"
     },
     "execution_count": 80,
     "metadata": {},
     "output_type": "execute_result"
    }
   ],
   "source": [],
   "metadata": {
    "collapsed": false
   }
  },
  {
   "cell_type": "code",
   "execution_count": null,
   "outputs": [],
   "source": [],
   "metadata": {
    "collapsed": false
   }
  }
 ],
 "metadata": {
  "kernelspec": {
   "display_name": "Python 3",
   "language": "python",
   "name": "python3"
  },
  "language_info": {
   "codemirror_mode": {
    "name": "ipython",
    "version": 2
   },
   "file_extension": ".py",
   "mimetype": "text/x-python",
   "name": "python",
   "nbconvert_exporter": "python",
   "pygments_lexer": "ipython2",
   "version": "2.7.6"
  }
 },
 "nbformat": 4,
 "nbformat_minor": 0
}
