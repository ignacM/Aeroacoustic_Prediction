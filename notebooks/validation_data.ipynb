{
 "cells": [
  {
   "cell_type": "code",
   "execution_count": null,
   "metadata": {
    "collapsed": true
   },
   "outputs": [],
   "source": [
    "import pandas as pd\n",
    "import numpy as np\n",
    "import self as self"
   ]
  },
  {
   "cell_type": "code",
   "execution_count": null,
   "outputs": [],
   "source": [
    "# Read df, drop predictors\n",
    "x_val = pd.read_excel('../Data/dec22/data_input.xlsx', sheet_name='pol')\n",
    "x_val = x_val.drop(['db'], axis=1)"
   ],
   "metadata": {
    "collapsed": false
   }
  },
  {
   "cell_type": "code",
   "execution_count": null,
   "outputs": [],
   "source": [
    "# Format data to test model ability to predict between angles of train data.\n",
    "for row in range(len(x_val)):\n",
    "    x_val.at[row, 'degree'] = x_val.iloc[row, 1] + 7.5"
   ],
   "metadata": {
    "collapsed": false
   }
  },
  {
   "cell_type": "code",
   "execution_count": null,
   "outputs": [],
   "source": [
    "x_val_dict = []\n",
    "x = 7.5\n",
    "for i in range(x_val.groupby('degree').unique().sum()):\n",
    "    x_val_dict[i] = x_val.loc[(x_val.degree == x)]\n",
    "    x = x + 15\n",
    "x_val_dict.head(len(x_val_dict))\n",
    "\n",
    "# x_val.rename(columns = {'degree':'7.5'}, inplace = True)\n",
    "# formatted_x_val = x_val.loc[(x_val.degree == 7.5)]"
   ],
   "metadata": {
    "collapsed": false
   }
  },
  {
   "cell_type": "code",
   "execution_count": null,
   "outputs": [],
   "source": [
    "x_val.to_csv('../Data/dec22/x_validation.csv', index_label=False)"
   ],
   "metadata": {
    "collapsed": false
   }
  },
  {
   "cell_type": "code",
   "execution_count": null,
   "outputs": [],
   "source": [
    "xval = x_val.loc[(x_val.degree == 7.5)]"
   ],
   "metadata": {
    "collapsed": false
   }
  }
 ],
 "metadata": {
  "kernelspec": {
   "display_name": "Python 3",
   "language": "python",
   "name": "python3"
  },
  "language_info": {
   "codemirror_mode": {
    "name": "ipython",
    "version": 2
   },
   "file_extension": ".py",
   "mimetype": "text/x-python",
   "name": "python",
   "nbconvert_exporter": "python",
   "pygments_lexer": "ipython2",
   "version": "2.7.6"
  }
 },
 "nbformat": 4,
 "nbformat_minor": 0
}
