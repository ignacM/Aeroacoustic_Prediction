{
 "cells": [
  {
   "cell_type": "code",
   "execution_count": null,
   "outputs": [],
   "source": [
    "import pandas as pd\n",
    "import matplotlib as plt\n",
    "from sklearn import preprocessing\n",
    "from sklearn.decomposition import PCA\n",
    "from sklearn.preprocessing import scale\n",
    "from decision_tree import runTree"
   ],
   "metadata": {
    "collapsed": false
   }
  },
  {
   "cell_type": "code",
   "execution_count": null,
   "outputs": [],
   "source": [
    "\"\"\"Load Data\"\"\"\n",
    "path = \"Data/raw_data_2.xlsx\"\n",
    "df = pd.read_excel(path)\n",
    "#df.head(300)"
   ],
   "metadata": {
    "collapsed": false
   }
  },
  {
   "cell_type": "code",
   "execution_count": null,
   "outputs": [],
   "source": [
    "df_polar = df.iloc[:115,1:]\n",
    "df_azimuthal = df.drop('db_pol', axis =1)\n",
    "df_polar.head()\n",
    "print(len(df_polar))"
   ],
   "metadata": {
    "collapsed": false
   }
  },
  {
   "cell_type": "markdown",
   "source": [
    "possible features = [Microphone_degree,\tDB,\tdegree,\tdistance_from_blade, distance_from_blade_2,\t\tThrust_blade_1, Thrust_blade_2]"
   ],
   "metadata": {
    "collapsed": false
   }
  },
  {
   "cell_type": "code",
   "execution_count": null,
   "outputs": [],
   "source": [
    "def azimuthal_microphone_adapt(row):\n",
    "    row.Microphone_number = row.Microphone_number - 23\n",
    "    return row\n",
    "def microphone_number_to_angle(row):\n",
    "    row.Microphone_number = row.Microphone_number - 1\n",
    "    row.Microphone_number = row.Microphone_number * 5\n",
    "    row.Microphone_number = row.Microphone_number + 40\n",
    "    return row"
   ],
   "metadata": {
    "collapsed": false
   }
  },
  {
   "cell_type": "code",
   "execution_count": null,
   "outputs": [],
   "source": [
    "df_azimuthal.to_csv('df_azimuthal.csv')\n",
    "df_polar.to_csv('df_polar.csv')\n",
    "Y_polar = df_polar.iloc[:,0]\n",
    "X_polar = df_polar.iloc[:, 1:]"
   ],
   "metadata": {
    "collapsed": false
   }
  },
  {
   "cell_type": "code",
   "execution_count": null,
   "outputs": [],
   "source": [
    "runTree(X_polar, Y_polar)"
   ],
   "metadata": {
    "collapsed": false
   }
  },
  {
   "cell_type": "code",
   "execution_count": null,
   "outputs": [],
   "source": [
    "path = 'Data\\combined_data.xlsx'\n",
    "df = pd.read_excel(path)\n",
    "\n",
    "X_data = df.iloc[:, 1:]\n",
    "Y_data = df.iloc[:, 0]\n",
    "#runmodel(X_data, Y_data)\n",
    "#runTree(X_data, Y_data)\n",
    "# best Tree parameters for combined data:\n",
    "\"\"\"tre = DecisionTreeRegressor(max_depth=8, min_samples_split=2, ccp_alpha=0.02)\"\"\"\n",
    "\n",
    "exclude = 60\n",
    "\n",
    "newX =X_data.drop(X_data.index[X_data['degree']== exclude])\n",
    "newY = df.drop(df.index[df['degree']==exclude]).iloc[:,0]\n",
    "\n",
    "newX.head(600)"
   ],
   "metadata": {
    "collapsed": false
   }
  },
  {
   "cell_type": "code",
   "execution_count": null,
   "outputs": [],
   "source": [
    "print(newY)"
   ],
   "metadata": {
    "collapsed": false
   }
  },
  {
   "cell_type": "code",
   "execution_count": null,
   "outputs": [],
   "source": [],
   "metadata": {
    "collapsed": false
   }
  }
 ],
 "metadata": {
  "kernelspec": {
   "display_name": "Python 3",
   "language": "python",
   "name": "python3"
  },
  "language_info": {
   "codemirror_mode": {
    "name": "ipython",
    "version": 2
   },
   "file_extension": ".py",
   "mimetype": "text/x-python",
   "name": "python",
   "nbconvert_exporter": "python",
   "pygments_lexer": "ipython2",
   "version": "2.7.6"
  }
 },
 "nbformat": 4,
 "nbformat_minor": 0
}
