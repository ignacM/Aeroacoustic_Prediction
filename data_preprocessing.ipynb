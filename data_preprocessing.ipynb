{
 "cells": [
  {
   "cell_type": "code",
   "execution_count": 9,
   "metadata": {
    "collapsed": true
   },
   "outputs": [],
   "source": [
    "import pandas as pd\n",
    "import matplotlib as plt\n",
    "from sklearn import preprocessing\n",
    "from sklearn.decomposition import PCA\n",
    "from sklearn.preprocessing import scale\n",
    "from decision_tree import runTree"
   ]
  },
  {
   "cell_type": "code",
   "execution_count": 2,
   "outputs": [],
   "source": [
    "\"\"\"Load Data\"\"\"\n",
    "path = 'Data\\preliminary_data_2.xlsx'\n",
    "df = pd.read_excel(path)\n",
    "#df.head(300)"
   ],
   "metadata": {
    "collapsed": false
   }
  },
  {
   "cell_type": "code",
   "execution_count": 3,
   "outputs": [
    {
     "data": {
      "text/plain": "      db_pol  array_degree degree  thrust_blade1  thrust_blade2\n0  68.671226            40      0         3.2054         3.1976\n1  68.291746            45      0         3.2054         3.1976\n2  67.938657            50      0         3.2054         3.1976\n3  67.638066            55      0         3.2054         3.1976\n4  67.438890            60      0         3.2054         3.1976",
      "text/html": "<div>\n<style scoped>\n    .dataframe tbody tr th:only-of-type {\n        vertical-align: middle;\n    }\n\n    .dataframe tbody tr th {\n        vertical-align: top;\n    }\n\n    .dataframe thead th {\n        text-align: right;\n    }\n</style>\n<table border=\"1\" class=\"dataframe\">\n  <thead>\n    <tr style=\"text-align: right;\">\n      <th></th>\n      <th>db_pol</th>\n      <th>array_degree</th>\n      <th>degree</th>\n      <th>thrust_blade1</th>\n      <th>thrust_blade2</th>\n    </tr>\n  </thead>\n  <tbody>\n    <tr>\n      <th>0</th>\n      <td>68.671226</td>\n      <td>40</td>\n      <td>0</td>\n      <td>3.2054</td>\n      <td>3.1976</td>\n    </tr>\n    <tr>\n      <th>1</th>\n      <td>68.291746</td>\n      <td>45</td>\n      <td>0</td>\n      <td>3.2054</td>\n      <td>3.1976</td>\n    </tr>\n    <tr>\n      <th>2</th>\n      <td>67.938657</td>\n      <td>50</td>\n      <td>0</td>\n      <td>3.2054</td>\n      <td>3.1976</td>\n    </tr>\n    <tr>\n      <th>3</th>\n      <td>67.638066</td>\n      <td>55</td>\n      <td>0</td>\n      <td>3.2054</td>\n      <td>3.1976</td>\n    </tr>\n    <tr>\n      <th>4</th>\n      <td>67.438890</td>\n      <td>60</td>\n      <td>0</td>\n      <td>3.2054</td>\n      <td>3.1976</td>\n    </tr>\n  </tbody>\n</table>\n</div>"
     },
     "execution_count": 3,
     "metadata": {},
     "output_type": "execute_result"
    }
   ],
   "source": [
    "df_polar = df.iloc[:115,1:]\n",
    "df_azimuthal = df.drop('db_pol', axis =1)\n",
    "df_polar.head()"
   ],
   "metadata": {
    "collapsed": false
   }
  },
  {
   "cell_type": "markdown",
   "source": [
    "df_polar.head(), df_polar['Microphone_number']\n",
    "\n",
    "possible features = [Microphone_degree,\tDB,\tdegree,\tdistance_from_blade, distance_from_blade_2,\t\tThrust_blade_1, Thrust_blade_2]"
   ],
   "metadata": {
    "collapsed": false
   }
  },
  {
   "cell_type": "code",
   "execution_count": 4,
   "outputs": [],
   "source": [
    "def azimuthal_microphone_adapt(row):\n",
    "    row.Microphone_number = row.Microphone_number - 23\n",
    "    return row\n",
    "def microphone_number_to_angle(row):\n",
    "    row.Microphone_number = row.Microphone_number - 1\n",
    "    row.Microphone_number = row.Microphone_number * 5\n",
    "    row.Microphone_number = row.Microphone_number + 40\n",
    "    return row"
   ],
   "metadata": {
    "collapsed": false
   }
  },
  {
   "cell_type": "code",
   "execution_count": 5,
   "outputs": [],
   "source": [
    "df_azimuthal.to_csv('df_azimuthal.csv')\n",
    "df_polar.to_csv('df_polar.csv')\n",
    "Y_polar = df_polar.iloc[:,0]\n",
    "X_polar = df_polar.iloc[:, 1:]"
   ],
   "metadata": {
    "collapsed": false
   }
  },
  {
   "cell_type": "code",
   "execution_count": 10,
   "outputs": [
    {
     "ename": "AttributeError",
     "evalue": "module 'sklearn.ensemble' has no attribute 'DecisionTreeRegressor'",
     "output_type": "error",
     "traceback": [
      "\u001B[1;31m---------------------------------------------------------------------------\u001B[0m",
      "\u001B[1;31mAttributeError\u001B[0m                            Traceback (most recent call last)",
      "Input \u001B[1;32mIn [10]\u001B[0m, in \u001B[0;36m<cell line: 1>\u001B[1;34m()\u001B[0m\n\u001B[1;32m----> 1\u001B[0m \u001B[43mrunTree\u001B[49m\u001B[43m(\u001B[49m\u001B[43mX_polar\u001B[49m\u001B[43m,\u001B[49m\u001B[43m \u001B[49m\u001B[43mY_polar\u001B[49m\u001B[43m)\u001B[49m\n",
      "File \u001B[1;32m~\\PycharmProjects\\Aeroacoustic_Prediction\\decision_tree.py:24\u001B[0m, in \u001B[0;36mrunTree\u001B[1;34m(X, Y)\u001B[0m\n\u001B[0;32m     17\u001B[0m \u001B[38;5;66;03m# Finding an optimized decision tree\u001B[39;00m\n\u001B[0;32m     18\u001B[0m \u001B[38;5;66;03m# Using max_depth, criterion will suffice for DT Models, rest all will remain constant\u001B[39;00m\n\u001B[0;32m     19\u001B[0m parameters \u001B[38;5;241m=\u001B[39m {\u001B[38;5;124m'\u001B[39m\u001B[38;5;124mmax_depth\u001B[39m\u001B[38;5;124m'\u001B[39m: (\u001B[38;5;241m13\u001B[39m,\u001B[38;5;241m15\u001B[39m)\n\u001B[0;32m     20\u001B[0m     , \u001B[38;5;124m'\u001B[39m\u001B[38;5;124mmax_features\u001B[39m\u001B[38;5;124m'\u001B[39m: (\u001B[38;5;124m'\u001B[39m\u001B[38;5;124msqrt\u001B[39m\u001B[38;5;124m'\u001B[39m, \u001B[38;5;124m'\u001B[39m\u001B[38;5;124mlog2\u001B[39m\u001B[38;5;124m'\u001B[39m)\n\u001B[0;32m     21\u001B[0m     , \u001B[38;5;124m'\u001B[39m\u001B[38;5;124mmin_samples_split\u001B[39m\u001B[38;5;124m'\u001B[39m: (\u001B[38;5;241m4\u001B[39m, \u001B[38;5;241m6\u001B[39m, \u001B[38;5;241m8\u001B[39m)\n\u001B[0;32m     22\u001B[0m               }\n\u001B[1;32m---> 24\u001B[0m regressor \u001B[38;5;241m=\u001B[39m \u001B[43mensemble\u001B[49m\u001B[38;5;241;43m.\u001B[39;49m\u001B[43mDecisionTreeRegressor\u001B[49m(n_jobs\u001B[38;5;241m=\u001B[39m\u001B[38;5;241m-\u001B[39m\u001B[38;5;241m1\u001B[39m)\n\u001B[0;32m     25\u001B[0m param_grid \u001B[38;5;241m=\u001B[39m {\n\u001B[0;32m     26\u001B[0m     \u001B[38;5;124m'\u001B[39m\u001B[38;5;124mmax_depth\u001B[39m\u001B[38;5;124m'\u001B[39m: [\u001B[38;5;241m13\u001B[39m, \u001B[38;5;241m15\u001B[39m],\n\u001B[0;32m     27\u001B[0m     \u001B[38;5;124m'\u001B[39m\u001B[38;5;124mmax_features\u001B[39m\u001B[38;5;124m'\u001B[39m: [\u001B[38;5;124m'\u001B[39m\u001B[38;5;124msqrt\u001B[39m\u001B[38;5;124m'\u001B[39m, \u001B[38;5;124m'\u001B[39m\u001B[38;5;124mlog2\u001B[39m\u001B[38;5;124m'\u001B[39m],\n\u001B[0;32m     28\u001B[0m     \u001B[38;5;124m'\u001B[39m\u001B[38;5;124mmin_samples_split\u001B[39m\u001B[38;5;124m'\u001B[39m: [\u001B[38;5;241m4\u001B[39m, \u001B[38;5;241m6\u001B[39m, \u001B[38;5;241m8\u001B[39m]\n\u001B[0;32m     29\u001B[0m }\n\u001B[0;32m     31\u001B[0m model \u001B[38;5;241m=\u001B[39m model_selection\u001B[38;5;241m.\u001B[39mGridSearchCV(estimator\u001B[38;5;241m=\u001B[39mregressor, param_grid\u001B[38;5;241m=\u001B[39mparam_grid, verbose\u001B[38;5;241m=\u001B[39m\u001B[38;5;241m10\u001B[39m, n_jobs\u001B[38;5;241m=\u001B[39m\u001B[38;5;241m1\u001B[39m, cv\u001B[38;5;241m=\u001B[39m\u001B[38;5;241m5\u001B[39m)\n",
      "\u001B[1;31mAttributeError\u001B[0m: module 'sklearn.ensemble' has no attribute 'DecisionTreeRegressor'"
     ]
    }
   ],
   "source": [
    "runTree(X_polar, Y_polar)"
   ],
   "metadata": {
    "collapsed": false
   }
  },
  {
   "cell_type": "code",
   "execution_count": null,
   "outputs": [],
   "source": [],
   "metadata": {
    "collapsed": false
   }
  }
 ],
 "metadata": {
  "kernelspec": {
   "display_name": "Python 3",
   "language": "python",
   "name": "python3"
  },
  "language_info": {
   "codemirror_mode": {
    "name": "ipython",
    "version": 2
   },
   "file_extension": ".py",
   "mimetype": "text/x-python",
   "name": "python",
   "nbconvert_exporter": "python",
   "pygments_lexer": "ipython2",
   "version": "2.7.6"
  }
 },
 "nbformat": 4,
 "nbformat_minor": 0
}
